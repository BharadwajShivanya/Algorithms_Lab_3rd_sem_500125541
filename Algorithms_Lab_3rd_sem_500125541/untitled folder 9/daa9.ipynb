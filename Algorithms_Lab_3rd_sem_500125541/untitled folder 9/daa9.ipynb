{
  "nbformat": 4,
  "nbformat_minor": 0,
  "metadata": {
    "colab": {
      "provenance": []
    },
    "kernelspec": {
      "name": "python3",
      "display_name": "Python 3"
    },
    "language_info": {
      "name": "python"
    }
  },
  "cells": [
    {
      "cell_type": "code",
      "execution_count": null,
      "metadata": {
        "id": "9ldh3n65l-Bm"
      },
      "outputs": [],
      "source": [
        "from google.colab import files\n",
        "uploaded = files.upload()"
      ]
    },
    {
      "cell_type": "code",
      "source": [
        "\n",
        "import pandas as pd\n",
        "import matplotlib.pyplot as plt\n",
        "\n",
        "# Load the CSV file into a DataFrame\n",
        "data = pd.read_csv(\"split_costs.csv\")\n",
        "\n",
        "# Display the first few rows to check the data\n",
        "data.head()\n",
        "# Plotting the cost for each split point\n",
        "plt.figure(figsize=(10, 6))\n",
        "for (i, j), group in data.groupby(['i', 'j']):\n",
        "    plt.plot(group['k'], group['Cost'], marker='o', label=f'Segment A{i} to A{j}')\n",
        "\n",
        "# Label the plot\n",
        "plt.xlabel('Split Point (k)')\n",
        "plt.ylabel('Multiplication Cost')\n",
        "plt.title('Cost of Matrix Chain Multiplication by Split Points')\n",
        "plt.legend(title=\"Matrix Segment\")\n",
        "plt.grid(True)\n",
        "plt.show()\n"
      ],
      "metadata": {
        "id": "9c7tcpPul_CR"
      },
      "execution_count": null,
      "outputs": []
    }
  ]
}